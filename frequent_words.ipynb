{
 "cells": [
  {
   "cell_type": "code",
   "execution_count": 23,
   "metadata": {},
   "outputs": [],
   "source": [
    "from tqdm import tqdm\n",
    "import pandas as pd\n",
    "\n",
    "songs = []\n",
    "with open(\"songs/cleaned_songs.txt\", 'r') as file:\n",
    "\tfor line in file:\n",
    "\t\tsongs.append(int(line))"
   ]
  },
  {
   "cell_type": "code",
   "execution_count": 33,
   "metadata": {},
   "outputs": [
    {
     "name": "stderr",
     "output_type": "stream",
     "text": [
      "100%|██████████| 9616/9616 [00:05<00:00, 1657.55it/s]"
     ]
    },
    {
     "name": "stdout",
     "output_type": "stream",
     "text": [
      "         词频     发音  词性    原型\n",
      "君     20265     キミ  名詞     君\n",
      "し     16665      シ  動詞    する\n",
      "い     13853      イ  動詞    いる\n",
      "ん     12258      ン  名詞     ん\n",
      "の     11599      ノ  名詞     の\n",
      "...     ...    ...  ..   ...\n",
      "鳴り響こ      2  ナリヒビコ  動詞  鳴り響く\n",
      "ベテラン      2   ベテラン  名詞  ベテラン\n",
      "中庸        2  チュウヨウ  名詞    中庸\n",
      "ナマ        2     ナマ  名詞    ナマ\n",
      "外聞        2   ガイブン  名詞    外聞\n",
      "\n",
      "[26962 rows x 4 columns]\n"
     ]
    },
    {
     "name": "stderr",
     "output_type": "stream",
     "text": [
      "\n"
     ]
    }
   ],
   "source": [
    "def isKana(c):\n",
    "\tif 0x3040 <= ord(c) <= 0x309F: return True\n",
    "\tif 0x30A0 <= ord(c) <= 0x30FF: return True\n",
    "\tif 0x31F0 <= ord(c) <= 0x31FF: return True\n",
    "\treturn False\n",
    "def isKanji(c):\n",
    "\tif 0x4E00 <= ord(c) <= 0x9FFF: return True\n",
    "\treturn False\n",
    "def isCharacter(c):\n",
    "\treturn isKana(c) or isKanji(c)\n",
    "\n",
    "freDict = {} # Frequency\n",
    "posDict = {} # Part of Speech\n",
    "proDict = {} # Pronunciation\n",
    "basDict = {} # Basic Form\n",
    "for id in tqdm(songs):\n",
    "\twith open(f\"parsed_lyrics/{id}.txt\", 'r') as file:\n",
    "\t\tfor line in file:\n",
    "\t\t\twords = line.split()\n",
    "\t\t\tif str.isspace(line[0]): continue\n",
    "\t\t\tif all(not isCharacter(c) for c in words[0]): continue\n",
    "\t\t\tproperties = words[1].split(',')\n",
    "\t\t\tif properties[6] == '*': continue\n",
    "\t\t\tif len(properties) <= 7: print(line)\n",
    "\t\t\tname = words[0]\n",
    "\t\t\tbasicForm = properties[6]\n",
    "\t\t\tpos = properties[0]\n",
    "\t\t\tif pos in ['助詞', '記号', '助動詞']: continue\n",
    "\t\t\tif name not in freDict:\n",
    "\t\t\t\tfreDict[name] = 1\n",
    "\t\t\t\tposDict[name] = pos\n",
    "\t\t\t\tproDict[name] = properties[7]\n",
    "\t\t\t\tbasDict[name] = basicForm\n",
    "\t\t\telse:\n",
    "\t\t\t\tfreDict[name] += 1\n",
    "df = pd.DataFrame({\"词频\":freDict, \"发音\": proDict, \"词性\": posDict, \"原型\": basDict})\n",
    "df = df[df[\"词频\"] > 1]\n",
    "df = df.sort_values(by=[\"词频\"], ascending=False)\n",
    "print(df)\n",
    "df.to_csv(\"歌词高频词.csv\", encoding='utf-8-sig')"
   ]
  }
 ],
 "metadata": {
  "kernelspec": {
   "display_name": "Python 3",
   "language": "python",
   "name": "python3"
  },
  "language_info": {
   "codemirror_mode": {
    "name": "ipython",
    "version": 3
   },
   "file_extension": ".py",
   "mimetype": "text/x-python",
   "name": "python",
   "nbconvert_exporter": "python",
   "pygments_lexer": "ipython3",
   "version": "3.12.2"
  }
 },
 "nbformat": 4,
 "nbformat_minor": 2
}
